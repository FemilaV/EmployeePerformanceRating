{
 "cells": [
  {
   "cell_type": "markdown",
   "metadata": {},
   "source": [
    "# Project - ABC Future Inc Employee Performance\n",
    "## Project Scenario\n",
    "- ABC Future Inc  , is one of the leading data analytics and automation solutions provider with over 15 years of global business presence.Recent years, the employee performance indexes are not healthy and this is becoming a growing concerns among the top management. There has been increased escalations on service delivery and client satisfaction levels came down by 8 percentage points\n",
    "## Project Objectives\n",
    "- expects the findings of this project that to take right course of actions to improve Employee Performance. Also expecting a clear indicators of non performing employees, so that any penalization of non-performing employee, if required, maynot significantly affect other employee morals.\n",
    "1. Department wise performances\n",
    "2. Top 3 Important Factors effecting employee performance\n",
    "3. A trained model which can predict the employee performance based on factors as inputs. This will be used to hire employees\n",
    "4. Recommendations to improve the employee performance based on insights from analysis."
   ]
  },
  {
   "cell_type": "markdown",
   "metadata": {},
   "source": [
    "# Project Summary\n",
    "- The dataset was clean and well structured with 28 features and 1200 rows.Identified variable- PerformanceRating as the Target(Independent Variable).As mentioned the data was clean so there were no null values.There were 9 categorical variables and 19 numerical variables.Used Label Encoding technique to convert categorical variables to Numerical.\n",
    "- The box plots were showing that there were outliers in the dataset so removed the outliers z-score greater than 3 standard deviation.Removed 66 outliers.\n",
    "- The dataset was imbalanced.There were 831 rows with Performance rating '3',177 rows with a roting of '2' and 126 rows with a rating of '4'.So applied SMOTE Oversampling to balance the dataset.\n",
    "- Used Matplotlib ,Seaborn and Plotly for Graphs. Barplots,Histograms,Scatterplots,Violin plots were used for analysing the factors affecting the Performance of the employees in each department.\n",
    "- WorkLifeBalance,BusinessTravelFrequency,EmpEnvironmentSatisfaction are the 3 important Factors effecting employee performance.\n",
    "- - Higher the worklife balance and higher theEmpEnvironmentSatisfaction higher the performance.In HumanResource,Research and development Finance departments non travellers are showing higher performance.\n",
    "- Applied SelectKBest,ExtraTreeClassifier and Pearson Correlation for Feature Selection,removed Age and EmpHourlyRate as both have the weakest relationship with the target(performanceRating).\n",
    "- Applied DecisionTree, Random Forest, XGBoost,K Means and SupporVectorMachine Classifier model alorithms.Random Forest gave an accuracy of 97 and XGBoost gave an accuracy of 96.\n",
    "- - Printed the classification report and Confusion Matrix"
   ]
  },
  {
   "cell_type": "markdown",
   "metadata": {},
   "source": [
    "# Data\n",
    "\n",
    "INX Future Inc Employee Performance - Project\n",
    "INX Future Inc , (referred as INX ) , is one of the leading data analytics and automation solutions provider\n",
    "with over 15 years of global business presence. INX is consistently rated as top 20 best employers past 5\n",
    "years. INX human resource policies are considered as employee friendly and widely perceived as best\n",
    "practices in the industry.\n",
    "Recent years, the employee performance indexes are not healthy and this is becoming a growing\n",
    "concerns among the top management. There has been increased escalations on service delivery and\n",
    "client satisfaction levels came down by 8 percentage points.\n",
    "CEO, Mr. Brain, knows the issues but concerned to take any actions in penalizing non-performing\n",
    "employees as this would affect the employee morale of all the employees in general and may further\n",
    "reduce the performance. Also, the market perception best employer and thereby attracting best talents\n",
    "to join the company.\n",
    "Mr. Brain decided to initiate a data science project , which analyses the current employee data and find\n",
    "the core underlying causes of this performance issues. Mr. Brain, being a data scientist himself, expects\n",
    "the findings of this project will help him to take right course of actions. He also expects a clear indicators\n",
    "of non performing employees, so that any penalization of non-performing employee, if required, may\n",
    "not significantly affect other employee morals.\n"
   ]
  },
  {
   "cell_type": "markdown",
   "metadata": {},
   "source": [
    "# Data Processing\n",
    "                Dataset was an excel file with 1200 rows and 28 columns.9 categorical variables and 19 numerical variables. Removed EmpNumber column as it is irrelevant for the particular project.Used heatmap to see the null values.The dataset doesn't had any null values.Applied Label encoding to convert the categorical values to numerical.\n",
    "##### Label Encoding\n",
    "                       In machine learning, we usually deal with datasets which contains multiple labels in one or more than one columns. These labels can be in the form of words or numbers. To make the data understandable or in human readable form, the training data is often labeled in words.Label Encoding refers to converting the labels into numeric form so as to convert it into the machine-readable form. Machine learning algorithms can then decide in a better way on how those labels must be operated. It is an important pre-processing step for the structured dataset in supervised learning.\n",
    "#### Outliers\n",
    "                 Outliers are data points that don't fit the pattern of rest of the numbers. They are the extremely high or extremely low values in the data set.Found the z-score of each data points,removed data points with a z-score greater than 3 standard deviation.The dataset got reduced to 1134 rows from 1200.There were 66 outliers.\n",
    "#### Imbalanced dataset\n",
    "                The dataset is imbalanced.If we take the value counts of Performance rating, there were 831 rows with Performance rating '3',177 rows with a roting of '2' and 126 rows with a rating of '4'.So applied SMOTE Oversampling to balance the dataset.SMOTE is an oversampling technique where the synthetic samples are generated for the minority class. This algorithm helps to overcome the overfitting problem posed by random oversampling.    "
   ]
  },
  {
   "cell_type": "markdown",
   "metadata": {},
   "source": [
    "# EDA\n",
    "       Analysed Each feature in the dataset.Got the unique values and its value counts for each variable.\n",
    "#### Categorical Variables\n",
    "- Gender - Male,Female\n",
    "- EducationBackground- Marketing,LifeScience,HR,Medical,Technical Degree,Other\n",
    "- MaritalStatus - Single,Married,Divorced\n",
    "- EmpDepartment- Sales,HR,Development,DataScience,Reseach&Development,Finance\n",
    "- EmpJobRole- \n",
    "      Sales Department : Manager,Sales Executive,SalesRep,\n",
    "      HR Department : HR\n",
    "      Development Department : Developer,Tech Architect,TechLead,Delivery Manager,Business Analyst\n",
    "      Data Science Department : DataScientist\n",
    "      Research&Development : Manager, Senior manager,Lab Technician,Research Scientist, Managing Director,Research                     Director,Healthcare Representative\n",
    "      Finance department :Finance Manager\n",
    "- BusinessTravelFrequency - Non traveller,Frequent traveller,Travel rarely\n",
    "- OverTime - Yes ,No\n",
    "- Attrition - Yes , No\n",
    "\n",
    "#### Numerical Features\n",
    "- Age (minimum 18 years  and maximum 60 years)\n",
    "- Distancefromhome (minimum 1km and maximum 29km)\n",
    "- EmpEducationalLevel (1,2,3,4,5 : Below college,college,bachelor,master,doctor)\n",
    "- EmpEnvironmentSatisfaction (1,2,3,4) low to very high\n",
    "- EmpHourlyRate (min 30 ,max 100)\n",
    "- EmpJobInvolvement (1,2,3,4)low to very high\n",
    "- EmpJobLevel (1,2,3,4,5) low to very high\n",
    "- EmpJobSatisfaction (1,2,3,4)low to very high\n",
    "- NumCompaniesWorked (min 1 , max 9)\n",
    "- EmpLastSalaryHikePercent \n",
    "- EmpRelationshipSatisfaction (1,2,3,4)low to very high\n",
    "- TotalWorkExperienceInYears\n",
    "- TrainingTimesLastYear\n",
    "- EmpWorkLifeBalance (1,2,3,4)low to very high\n",
    "- ExperienceYearsAtThisCompany (0 to 40)\n",
    "- ExperienceYearsInCurrentRole\n",
    "- YearsSinceLastPromotion\n",
    "- YearsWithCurrManager\n",
    "- PerformanceRating (1,2,3,4)low,good,excellent,outstanding "
   ]
  },
  {
   "cell_type": "markdown",
   "metadata": {},
   "source": [
    "## Analysis\n",
    "### Sales Department\n",
    "- Higher the worklife balance and job satisfaction higher the performance rating\n",
    "- Employers who travel frequently is showinh high performance\n",
    "- Working Overtime is also performing well\n",
    "- Performane rating is also affected by the last hike in salary\n",
    "\n",
    "### HumanResource\n",
    "- Higher the worklife balance and job satisfaction higher the performance rating\n",
    "- Females show better performance than males\n",
    "- Non travellers are performing better\n",
    "- Performane rating is also affected by the last hike in salary\n",
    "- fresher is as good as an experienced employee\n",
    "\n",
    "#### DataScience\n",
    "- Only 20 staffs\n",
    "- only 1 out of this 20 is having a performance rating of 2\n",
    "- Higher the job satisfaction higher the performance rating\n",
    "- Freshers are showing good performance\n",
    "\n",
    "### Research and Development\n",
    "- Higher experience staff have high performance rating\n",
    "- Non travellers show a little more good performane\n",
    "- Manager is performing well\n",
    "- Employees working overtime is good\n",
    "- Higher the worklife balance and EmpEnvironment satisfaction higher the performance rating\n",
    "\n",
    "### Development\n",
    "- Lesser number of Performance rating '2'\n",
    "- Job satisfaction is playing not affecting performance in this department\n",
    "- Employees having technical degree is showing slightly high performance\n",
    "- Higher the education higher the performance\n",
    "- as the years with current manager increase job satisfaction is decreasing\n",
    "- Employee satisfaction is affecting performance\n",
    "- All staffs are from medical and life science background\n",
    "\n",
    "#### Finance\n",
    "- there are 49 staffs and half of them are showing poor performance\n",
    "- Higher the worklife balance and job satisfaction higher the performance rating\n",
    "- Non travellers are performing better\n"
   ]
  },
  {
   "cell_type": "markdown",
   "metadata": {},
   "source": [
    "# Fearture Selection\n",
    "          Feature selection is a technique where we choose those features in our data that contribute most to the target variable. In other words we choose the best predictors for the target variable.\n",
    "## SelectKBest\n",
    "            Scikit-learn API provides SelectKBest class for extracting best features of given dataset. The SelectKBest method selects the features according to the k highest score. Selecting best features is important process when we prepare a large dataset for training. It helps us to eliminate less important part of the data and reduce a training time.\n",
    "- Age and EmpHourlyRate had a very low k score 3 and 7 so removed from the data set\n",
    "- All other variables had a very good k score\n",
    "## Pearson Correlation\n",
    "            A Pearson's correlation is used when you want to find a linear relationship between two variables.   'ExperienceYearsAtThisCompany','ExperienceYearsInCurrentRole','YearsWithCurrManager' are highly correlated.But removal of any three out of them is reducing the accuracy of the model as according to selectkbest they have high k score.\n",
    "            "
   ]
  },
  {
   "cell_type": "markdown",
   "metadata": {},
   "source": [
    "# Machine Learning  Model\n",
    "## Models Applied\n",
    "### Decision Tree Classifier - accuracy 90 %\n",
    "### Random Forest Classifier - accuracy 97 % \n",
    "### XGBoost Classifier - accuracy 96 % \n",
    "### K Nearest neighbour Classifier  - accuracy 81% \n",
    "###  Support Vector Machine Classifier - accurac 84 %\n",
    "\n",
    "\n"
   ]
  },
  {
   "cell_type": "markdown",
   "metadata": {},
   "source": [
    "## RandomForest classifier model having an accuracy of 97% can be used to  predict the employee performance based on factors as inputs. This can be used to hire employees"
   ]
  },
  {
   "cell_type": "markdown",
   "metadata": {},
   "source": [
    "# Recommendations to improve the employee performance based on insights from analysis.\n",
    " - Improving the Job Environment of the employees to improve their performance\n",
    " - To maintain worklife balance arrange suitable working hours and weekend offs\n",
    " - Apart from sales department performing well when they dont want to travel much\n",
    " - Yearly salary hike is highly improving employees performance\n",
    " - In HR department females are performing much better than males\n",
    " - In Research and development highly experienced staffs are performing well\n",
    " - in Development department employees with technical degree are performing well"
   ]
  },
  {
   "cell_type": "code",
   "execution_count": null,
   "metadata": {},
   "outputs": [],
   "source": []
  }
 ],
 "metadata": {
  "kernelspec": {
   "display_name": "Python 3",
   "language": "python",
   "name": "python3"
  },
  "language_info": {
   "codemirror_mode": {
    "name": "ipython",
    "version": 3
   },
   "file_extension": ".py",
   "mimetype": "text/x-python",
   "name": "python",
   "nbconvert_exporter": "python",
   "pygments_lexer": "ipython3",
   "version": "3.8.5"
  }
 },
 "nbformat": 4,
 "nbformat_minor": 4
}
